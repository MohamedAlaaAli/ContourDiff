{
 "cells": [
  {
   "cell_type": "markdown",
   "id": "3c4cdb2a-f1ac-4a4e-affe-f41ded27acbe",
   "metadata": {},
   "source": [
    "## Import libraries"
   ]
  },
  {
   "cell_type": "code",
   "execution_count": 1,
   "id": "7146bfc8-7fdf-4413-961f-5ed1764efb3c",
   "metadata": {},
   "outputs": [],
   "source": [
    "import os\n",
    "\n",
    "import pandas as pd\n",
    "import numpy as np\n",
    "from PIL import Image\n",
    "import matplotlib.pyplot as plt"
   ]
  },
  {
   "cell_type": "markdown",
   "id": "b57d9156-d50c-48cc-8191-f8b308ed391c",
   "metadata": {},
   "source": [
    "## Load data"
   ]
  },
  {
   "cell_type": "code",
   "execution_count": null,
   "id": "d163558d-f6ef-4256-8c65-6a1cd20f4d93",
   "metadata": {},
   "outputs": [],
   "source": [
    "data_directory = ### Enter data directory\n",
    "domain_img_folder = ### Enter the image folder name\n",
    "domain_contour_folder = ### Enter the contour folder name"
   ]
  },
  {
   "cell_type": "markdown",
   "id": "1ce34c18-cecb-4925-ad5a-507f34b15d21",
   "metadata": {},
   "source": [
    "## Contour visualization"
   ]
  },
  {
   "cell_type": "code",
   "execution_count": null,
   "id": "631cc6e4-6ff5-446d-a742-8fc69875221b",
   "metadata": {},
   "outputs": [],
   "source": [
    "### Number of examples to visualize\n",
    "n = 10\n",
    "\n",
    "for i, f in enumerate(os.listdir(os.path.join(data_directory, domain_img_folder))):\n",
    "    img = Image.open(os.path.join(data_directory, domain_img_folder, f))\n",
    "    contour = Image.open(os.path.join(data_directory, domain_contour_folder, f))\n",
    "\n",
    "    fig, ax = plt.subplots(1, 2, figsize=(6, 4), dpi=100)\n",
    "    ax[0].imshow(img, cmap=\"gray\")\n",
    "    ax[1].imshow(contour, cmap=\"gray\")\n",
    "\n",
    "    if i == (n - 1):\n",
    "        break"
   ]
  }
 ],
 "metadata": {
  "kernelspec": {
   "display_name": "Python 3 (ipykernel)",
   "language": "python",
   "name": "python3"
  },
  "language_info": {
   "codemirror_mode": {
    "name": "ipython",
    "version": 3
   },
   "file_extension": ".py",
   "mimetype": "text/x-python",
   "name": "python",
   "nbconvert_exporter": "python",
   "pygments_lexer": "ipython3",
   "version": "3.11.5"
  }
 },
 "nbformat": 4,
 "nbformat_minor": 5
}
